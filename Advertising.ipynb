{
  "nbformat": 4,
  "nbformat_minor": 0,
  "metadata": {
    "colab": {
      "name": "Advertising.ipynb",
      "provenance": [],
      "collapsed_sections": []
    },
    "kernelspec": {
      "name": "python3",
      "display_name": "Python 3"
    },
    "language_info": {
      "name": "python"
    }
  },
  "cells": [
    {
      "cell_type": "code",
      "metadata": {
        "id": "XmMWzu6ZBRTD"
      },
      "source": [
        "import numpy as np\n",
        "import pandas as pd\n",
        "import matplotlib.pyplot as plt\n"
      ],
      "execution_count": 2,
      "outputs": []
    },
    {
      "cell_type": "code",
      "metadata": {
        "id": "OlfblIn7DUb7"
      },
      "source": [
        "data = pd.read_csv(\"/content/drive/MyDrive/Advertising/Advertising_data.csv\")"
      ],
      "execution_count": 3,
      "outputs": []
    },
    {
      "cell_type": "code",
      "metadata": {
        "colab": {
          "base_uri": "https://localhost:8080/",
          "height": 204
        },
        "id": "3GEt4O9cDemD",
        "outputId": "13d01e00-bc79-42d5-917a-81dcf7b90d35"
      },
      "source": [
        "data.head()"
      ],
      "execution_count": 4,
      "outputs": [
        {
          "output_type": "execute_result",
          "data": {
            "text/html": [
              "<div>\n",
              "<style scoped>\n",
              "    .dataframe tbody tr th:only-of-type {\n",
              "        vertical-align: middle;\n",
              "    }\n",
              "\n",
              "    .dataframe tbody tr th {\n",
              "        vertical-align: top;\n",
              "    }\n",
              "\n",
              "    .dataframe thead th {\n",
              "        text-align: right;\n",
              "    }\n",
              "</style>\n",
              "<table border=\"1\" class=\"dataframe\">\n",
              "  <thead>\n",
              "    <tr style=\"text-align: right;\">\n",
              "      <th></th>\n",
              "      <th>TV</th>\n",
              "      <th>radio</th>\n",
              "      <th>newspaper</th>\n",
              "      <th>sales</th>\n",
              "    </tr>\n",
              "  </thead>\n",
              "  <tbody>\n",
              "    <tr>\n",
              "      <th>0</th>\n",
              "      <td>230.1</td>\n",
              "      <td>37.8</td>\n",
              "      <td>69.2</td>\n",
              "      <td>2210</td>\n",
              "    </tr>\n",
              "    <tr>\n",
              "      <th>1</th>\n",
              "      <td>44.5</td>\n",
              "      <td>39.3</td>\n",
              "      <td>45.1</td>\n",
              "      <td>1040</td>\n",
              "    </tr>\n",
              "    <tr>\n",
              "      <th>2</th>\n",
              "      <td>17.2</td>\n",
              "      <td>45.9</td>\n",
              "      <td>69.3</td>\n",
              "      <td>930</td>\n",
              "    </tr>\n",
              "    <tr>\n",
              "      <th>3</th>\n",
              "      <td>151.5</td>\n",
              "      <td>41.3</td>\n",
              "      <td>58.5</td>\n",
              "      <td>1850</td>\n",
              "    </tr>\n",
              "    <tr>\n",
              "      <th>4</th>\n",
              "      <td>180.8</td>\n",
              "      <td>10.8</td>\n",
              "      <td>58.4</td>\n",
              "      <td>1290</td>\n",
              "    </tr>\n",
              "  </tbody>\n",
              "</table>\n",
              "</div>"
            ],
            "text/plain": [
              "      TV  radio  newspaper  sales\n",
              "0  230.1   37.8       69.2   2210\n",
              "1   44.5   39.3       45.1   1040\n",
              "2   17.2   45.9       69.3    930\n",
              "3  151.5   41.3       58.5   1850\n",
              "4  180.8   10.8       58.4   1290"
            ]
          },
          "metadata": {
            "tags": []
          },
          "execution_count": 4
        }
      ]
    },
    {
      "cell_type": "markdown",
      "metadata": {
        "id": "vQo_pEu4DuiO"
      },
      "source": [
        "# **Simple Linear Regression**\n",
        "### Predicting sales from Television advertisements"
      ]
    },
    {
      "cell_type": "code",
      "metadata": {
        "id": "BncTX3jFDobE"
      },
      "source": [
        "#Initializing the variables\n",
        "X = data['TV'].values.reshape(-1,1)\n",
        "y = data['sales'].values.reshape(-1,1)"
      ],
      "execution_count": 6,
      "outputs": []
    },
    {
      "cell_type": "code",
      "metadata": {
        "colab": {
          "base_uri": "https://localhost:8080/",
          "height": 497
        },
        "id": "35CRn4ooGJuZ",
        "outputId": "31f4fc6c-8bc2-4e1f-89a8-d402fe20a480"
      },
      "source": [
        "plt.figure(figsize=(12,8))\n",
        "plt.scatter(X,y)\n",
        "plt.xlabel(\"Money spent on TV ads ($)\")\n",
        "plt.ylabel(\"Sales ($)\")\n",
        "plt.show()"
      ],
      "execution_count": 12,
      "outputs": [
        {
          "output_type": "display_data",
          "data": {
            "image/png": "[encoded data removed]",
            "text/plain": [
              "<Figure size 864x576 with 1 Axes>"
            ]
          },
          "metadata": {
            "tags": [],
            "needs_background": "light"
          }
        }
      ]
    },
    {
      "cell_type": "code",
      "metadata": {
        "id": "glN3xc4UGzdg"
      },
      "source": [
        "from sklearn.model_selection import train_test_split\n",
        "X_train, X_test, y_train, y_test = train_test_split(X, y, test_size=0.2, random_state=42)"
      ],
      "execution_count": 13,
      "outputs": []
    },
    {
      "cell_type": "code",
      "metadata": {
        "colab": {
          "base_uri": "https://localhost:8080/"
        },
        "id": "sCZbJRADHfBf",
        "outputId": "62a6209f-2ae9-44cc-a414-035285af76c7"
      },
      "source": [
        "from sklearn.linear_model import LinearRegression\n",
        "reg = LinearRegression()\n",
        "reg.fit(X_train, y_train)"
      ],
      "execution_count": 14,
      "outputs": [
        {
          "output_type": "execute_result",
          "data": {
            "text/plain": [
              "LinearRegression(copy_X=True, fit_intercept=True, n_jobs=None, normalize=False)"
            ]
          },
          "metadata": {
            "tags": []
          },
          "execution_count": 14
        }
      ]
    },
    {
      "cell_type": "code",
      "metadata": {
        "id": "EY8CaT5oHu6h"
      },
      "source": [
        "y_pred = reg.predict(X_test)\n"
      ],
      "execution_count": 22,
      "outputs": []
    },
    {
      "cell_type": "code",
      "metadata": {
        "colab": {
          "base_uri": "https://localhost:8080/",
          "height": 497
        },
        "id": "tbBXC5ucW3_p",
        "outputId": "e13d1023-ea7d-40c8-ceb4-bee43c59b71c"
      },
      "source": [
        "plt.figure(figsize=(12, 8))\n",
        "plt.scatter(X, y)\n",
        "plt.plot(\n",
        "    X_test,\n",
        "    y_pred,\n",
        "    c='black',\n",
        "    linewidth=2\n",
        ")\n",
        "plt.xlabel(\"Money spent on TV ads ($)\")\n",
        "plt.ylabel(\"Sales ($)\")\n",
        "plt.show()"
      ],
      "execution_count": 19,
      "outputs": [
        {
          "output_type": "display_data",
          "data": {
            "image/png": "[encoded data removed]",
            "text/plain": [
              "<Figure size 864x576 with 1 Axes>"
            ]
          },
          "metadata": {
            "tags": [],
            "needs_background": "light"
          }
        }
      ]
    },
    {
      "cell_type": "code",
      "metadata": {
        "colab": {
          "base_uri": "https://localhost:8080/"
        },
        "id": "oQ3KeMEwXZz-",
        "outputId": "c399bb3a-a5c8-4241-a273-8cedbc0e5ab4"
      },
      "source": [
        "print(\"Coefficient = \",reg.coef_)\n",
        "print(\"Intercept = \",reg.intercept_)\n",
        "from sklearn.metrics import r2_score\n",
        "print(\"R2 Score = %.2f\"%r2_score(y_test, y_pred))\n",
        "print(\"Sales = %.2f\"%reg.predict([[450]]))"
      ],
      "execution_count": 30,
      "outputs": [
        {
          "output_type": "stream",
          "text": [
            "Coefficient =  [[4.65297337]]\n",
            "Intercept =  [711.96384306]\n",
            "R2 Score = 0.68\n",
            "Sales = 2805.80\n"
          ],
          "name": "stdout"
        }
      ]
    },
    {
      "cell_type": "markdown",
      "metadata": {
        "id": "zUCTtBamZ1w7"
      },
      "source": [
        "# **Multiple Linear Regression**\n",
        "### Predicting Sales from all advertisements"
      ]
    },
    {
      "cell_type": "code",
      "metadata": {
        "id": "hPAI8EI0aTND"
      },
      "source": [
        "X = data.drop(['sales'], axis=1).values\n",
        "y = data['sales'].values.reshape(-1,1)"
      ],
      "execution_count": 66,
      "outputs": []
    },
    {
      "cell_type": "code",
      "metadata": {
        "id": "WmuTQvXwbL9s"
      },
      "source": [
        "from sklearn.model_selection import train_test_split\n",
        "X_train, X_test, y_train, y_test = train_test_split(X, y, test_size=0.2, random_state=42)"
      ],
      "execution_count": 67,
      "outputs": []
    },
    {
      "cell_type": "code",
      "metadata": {
        "colab": {
          "base_uri": "https://localhost:8080/"
        },
        "id": "yUl3Qc4PbhAQ",
        "outputId": "520e682e-d24f-4baa-87c8-7064e5676496"
      },
      "source": [
        "from sklearn.linear_model import LinearRegression\n",
        "regressor = LinearRegression()\n",
        "regressor.fit(X_train, y_train)"
      ],
      "execution_count": 68,
      "outputs": [
        {
          "output_type": "execute_result",
          "data": {
            "text/plain": [
              "LinearRegression(copy_X=True, fit_intercept=True, n_jobs=None, normalize=False)"
            ]
          },
          "metadata": {
            "tags": []
          },
          "execution_count": 68
        }
      ]
    },
    {
      "cell_type": "code",
      "metadata": {
        "id": "sGFmBHr_hqKj"
      },
      "source": [
        "y_pred=regressor.predict(X_test)"
      ],
      "execution_count": 71,
      "outputs": []
    },
    {
      "cell_type": "code",
      "metadata": {
        "colab": {
          "base_uri": "https://localhost:8080/"
        },
        "id": "5Alq0T8GiBr1",
        "outputId": "9304614e-4e67-4c20-8f85-8900140c5338"
      },
      "source": [
        "print(\"Coefficient = \",regressor.coef_)\n",
        "print(\"Intercept = \",regressor.intercept_)\n",
        "from sklearn.metrics import r2_score\n",
        "print(\"R2 Score = %.2f\"%r2_score(y_test, y_pred))\n",
        "print(\"Sales = %.2f\"%regressor.predict([[45,50,75]]))"
      ],
      "execution_count": 75,
      "outputs": [
        {
          "output_type": "stream",
          "text": [
            "Coefficient =  [[ 4.47295175 18.91950542  0.27611143]]\n",
            "Intercept =  [297.90673381]\n",
            "R2 Score = 0.90\n",
            "Sales = 1465.87\n"
          ],
          "name": "stdout"
        }
      ]
    },
    {
      "cell_type": "code",
      "metadata": {
        "colab": {
          "base_uri": "https://localhost:8080/"
        },
        "id": "USt6v4veiZAF",
        "outputId": "668358dc-4ca0-4dfe-e9fc-fef7535c9b69"
      },
      "source": [
        "#Taking the input from the user\n",
        "print(\"Enter the ammount you will invest on:\")\n",
        "tv = float(input(\"TV : \"))\n",
        "radio = float(input(\"Radio : \"))\n",
        "newspaper = float(input(\"Newspaper : \"))\n",
        "\n",
        "#predicting the sales with respect to the inputs\n",
        "output = regressor.predict([[tv,radio,newspaper]])\n",
        "print(\"Sales = %.2f\"%output)"
      ],
      "execution_count": 76,
      "outputs": [
        {
          "output_type": "stream",
          "text": [
            "Enter the ammount you will invest on:\n",
            "TV : 100\n",
            "Radio : 100\n",
            "Newspaper : 100\n",
            "Sales = 2664.76\n"
          ],
          "name": "stdout"
        }
      ]
    },
    {
      "cell_type": "code",
      "metadata": {
        "id": "sAhdpDiVixVU"
      },
      "source": [
        "import pickle\n",
        "filename = 'finalized_model.sav'\n",
        "pickle.dump(regressor, open(filename, 'wb'))"
      ],
      "execution_count": 78,
      "outputs": []
    },
    {
      "cell_type": "code",
      "metadata": {
        "id": "YA1WiGTGinVD"
      },
      "source": [
        "!cp -r \"/content/finalized_model.sav\" \"/content/drive/MyDrive/Advertising\""
      ],
      "execution_count": 77,
      "outputs": []
    }
  ]
}